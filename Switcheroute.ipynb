{
 "cells": [
  {
   "cell_type": "code",
   "execution_count": 55,
   "metadata": {
    "collapsed": false
   },
   "outputs": [],
   "source": [
    "import praw\n",
    "import re"
   ]
  },
  {
   "cell_type": "code",
   "execution_count": 2,
   "metadata": {
    "collapsed": true
   },
   "outputs": [],
   "source": [
    "r = praw.Reddit(\"switcheroute\")"
   ]
  },
  {
   "cell_type": "code",
   "execution_count": 79,
   "metadata": {
    "collapsed": false
   },
   "outputs": [],
   "source": [
    "comments = r.get_comments(\"leagueoflegends\")"
   ]
  },
  {
   "cell_type": "code",
   "execution_count": 6,
   "metadata": {
    "collapsed": false
   },
   "outputs": [
    {
     "name": "stdout",
     "output_type": "stream",
     "text": [
      "Honestly I believe he'd rather be masters again or make it into challenger th...\n",
      "What are \"bitch\" supports..............................Besides nidalee? \n",
      "Well I dont know if it was random, I just summarized the drama in the CSGO su...\n",
      "Woah buddy, I looked up wiki pages on how to be a know it all on the internet...\n",
      "It's from MSI where he focused almost 100% on TSM and what they need to do to...\n",
      "TL peter has no faith,  guys give him so faith \n",
      "Europe after the second war settled quickly. The communist growth in the East...\n",
      "in low elo, most of the time your teammates will pay no attention to Ally's d...\n",
      "How do you feel about blitzrank, and do you hate laning against him?\n",
      "Psh reddit sugar coating things? LOL. More like sum1 says sumthing \"douchey\" ...\n"
     ]
    },
    {
     "name": "stderr",
     "output_type": "stream",
     "text": [
      "/usr/local/lib/python2.7/dist-packages/requests/packages/urllib3/util/ssl_.py:90: InsecurePlatformWarning: A true SSLContext object is not available. This prevents urllib3 from configuring SSL appropriately and may cause certain SSL connections to fail. For more information, see https://urllib3.readthedocs.org/en/latest/security.html#insecureplatformwarning.\n",
      "  InsecurePlatformWarning\n"
     ]
    }
   ],
   "source": [
    "for i in range(10):\n",
    "    print comments.next()"
   ]
  },
  {
   "cell_type": "code",
   "execution_count": 7,
   "metadata": {
    "collapsed": true
   },
   "outputs": [],
   "source": [
    "comment = comments.next()"
   ]
  },
  {
   "cell_type": "code",
   "execution_count": 95,
   "metadata": {
    "collapsed": false
   },
   "outputs": [
    {
     "name": "stdout",
     "output_type": "stream",
     "text": [
      "cu3emum\n",
      "Wowmuchrya\n",
      "Honestly good for them, but they're going in the complete wrong direction by posting garbage like, \"Hahahahaha xd im the first grill in LCS sorry 2 everywun els xdee\".\n",
      "\n",
      "\n",
      "No, you aren't. No, nobody cares. People care about play when it comes down to the game.\n",
      "<div class=\"md\"><p>Honestly good for them, but they&#39;re going in the complete wrong direction by posting garbage like, &quot;Hahahahaha xd im the first grill in LCS sorry 2 everywun els xdee&quot;.</p>\n",
      "\n",
      "<p>No, you aren&#39;t. No, nobody cares. People care about play when it comes down to the game.</p>\n",
      "</div>\n",
      "1439626609.0\n",
      "1439597809.0\n",
      "http://www.reddit.com/r/leagueoflegends/comments/3h1eaa/rumour_rng_remilia_changing_her_name_to_rng/\n",
      "[Rumour] RNG Remilia changing her name to RNG Dreamcatcher and joining the LCS?\n",
      "None\n",
      "17 :: [Rumour] RNG Remilia changing her name to RNG Dreamcatcher and joining ...\n",
      "leagueoflegends\n",
      "-Honestly good for them, but they're going in the complete wrong direction by posting garbage like, \"Hahahahaha xd im the first grill in LCS sorry 2 everywun els xdee\".\n",
      "\n",
      "\n",
      "No, you aren't. No, nobody cares. People care about play when it comes down to the game.\n",
      "\n",
      "1\n"
     ]
    }
   ],
   "source": [
    "comment = comments.next()\n",
    "print comment.id\n",
    "print comment.author\n",
    "print comment.body\n",
    "print comment.body_html\n",
    "print comment.created\n",
    "print comment.created_utc\n",
    "print comment.link_url\n",
    "print comment.link_title\n",
    "print comment.json_dict\n",
    "print comment.submission\n",
    "print comment.subreddit\n",
    "for indComment in r.get_submission(comment.permalink).comments:\n",
    "    print \"-\"+str(indComment.body)+\"\\n\"\n",
    "    \n"
   ]
  },
  {
   "cell_type": "code",
   "execution_count": 123,
   "metadata": {
    "collapsed": false
   },
   "outputs": [
    {
     "name": "stdout",
     "output_type": "stream",
     "text": [
      "Ah, the old [Reddit honk-a-roo](https://www.reddit.com/r/RoastMe/comments/3gx...\n",
      "Hold my [coat](http://www.canada-goose.com) I'm going in!\n",
      "Done!\n",
      "Ah, the old [Reddit honk-a-roo](https://www.reddit.com/r/RoastMe/comments/3gx...\n",
      "Hold my [coat](http://www.canada-goose.com) I'm going in!\n",
      "Done!\n"
     ]
    }
   ],
   "source": [
    "specComment = r.get_submission(\"https://www.reddit.com/r/videos/comments/3gxl7o/a_canada_goose_was_following_my_dad_in_his_truck/cu30xn1\")\n",
    "forest = specComment.comments\n",
    "flat_forest = praw.helpers.flatten_tree(forest)\n",
    "\n",
    "for tree in forest:\n",
    "    print tree\n",
    "    for reply in tree.replies:\n",
    "        print reply\n",
    "    \n",
    "print \"Done!\"\n",
    "\n",
    "for tree in flat_forest:\n",
    "    print tree\n",
    "    \n",
    "\n",
    "print \"Done!\"\n",
    "#print r.get_submission(specComment.comments[0].permalink).replies\n"
   ]
  },
  {
   "cell_type": "code",
   "execution_count": 76,
   "metadata": {
    "collapsed": false,
    "scrolled": true
   },
   "outputs": [],
   "source": [
    "single_submission = r.get_submission(\"https://www.reddit.com/r/videos/comments/3gxl7o/a_canada_goose_was_following_my_dad_in_his_truck/cu30xn1\")\n",
    "single_comment = single_submission.comments[0]\n"
   ]
  },
  {
   "cell_type": "code",
   "execution_count": 77,
   "metadata": {
    "collapsed": false
   },
   "outputs": [
    {
     "name": "stdout",
     "output_type": "stream",
     "text": [
      "Ah, the old [Reddit honk-a-roo](https://www.reddit.com/r/RoastMe/comments/3gxny6/roast_me_you_fucks/cu2xdb3?context=2)\n",
      "https://www.reddit.com/r/RoastMe/comments/3gxny6/roast_me_you_fucks/cu2xdb3?context=2\n",
      "https://www.reddit.com/r/RoastMe/comments/3gxny6/roast_me_you_fucks/cu2xdb3\n"
     ]
    }
   ],
   "source": [
    "theBody = single_comment.body\n",
    "print theBody\n",
    "link = re.compile(\"https://www.reddit.com/r/.*/comments/.*/.*/.*[^)]\")\n",
    "rooRE = re.compile(\".+-roo\")\n",
    "print link.search(theBody).group(0)\n",
    "print re.split(\"\\?\", link.search(theBody).group(0))[0]"
   ]
  },
  {
   "cell_type": "code",
   "execution_count": 93,
   "metadata": {
    "collapsed": false,
    "scrolled": true
   },
   "outputs": [
    {
     "name": "stdout",
     "output_type": "stream",
     "text": [
      "Depth 0:\n",
      "\n",
      "  AdviceAnimals\n",
      "  Ah the old reddit [dick-a-roo](https://www.reddit.com/r/gifs/comments/3gwjvk/that_backpack/cu34le9?context=3)!\n",
      "  1439587638.0\n",
      "Depth 1:\n",
      "\n",
      "  gifs\n",
      "  Ah, the ol' reddit [pack-a-roo](https://www.reddit.com/r/tifu/comments/3gz3hc/tifu_by_doing_situps_every_night_nsfw/cu3318w?context=3)\n",
      "  1439580863.0\n",
      "Depth 2:\n",
      "\n",
      "  tifu\n",
      "  [Ah! The old Reddit Switcheroo!](https://www.reddit.com/r/pics/comments/3h02ki/there_is_a_river_29m_deep_in_the_ocean/cu32hmf?context=2)\n",
      "  1439578564.0\n",
      "Depth 3:\n",
      "\n",
      "  pics\n",
      "  Ah,the old Reddit [Fish-a-roo](https://www.reddit.com/r/videos/comments/3gxl7o/a_canada_goose_was_following_my_dad_in_his_truck/cu30xn1?context=2).\n",
      "  1439577755.0\n",
      "Depth 4:\n",
      "\n",
      "  videos\n",
      "  Ah, the old [Reddit honk-a-roo](https://www.reddit.com/r/RoastMe/comments/3gxny6/roast_me_you_fucks/cu2xdb3?context=2)\n",
      "  1439575452.0\n",
      "Depth 5:\n",
      "\n",
      "  RoastMe\n",
      "  Ah, the old reddit [incest-a-roo](https://www.reddit.com/r/tifu/comments/3gz3hc/tifu_by_doing_situps_every_night_nsfw/cu2wiz0?context=4)...\n",
      "  1439570184.0\n",
      "Depth 6:\n",
      "\n",
      "  tifu\n",
      "  Ah, the old reddit [Cana-roo](https://www.reddit.com/r/videos/comments/3gxl7o/a_canada_goose_was_following_my_dad_in_his_truck/cu2smby?context=3).\n",
      "  1439568926.0\n",
      "Depth 7:\n",
      "\n",
      "  videos\n",
      "  Ahh.... the old reddit [Goose-A-Roo](https://www.reddit.com/r/ScenesFromAHat/comments/3gw4j7/reddit_front_page_2_years_after_electing_donald/cu2sc2x?context=2)\n",
      "  1439562748.0\n",
      "Depth 8:\n",
      "\n",
      "  ScenesFromAHat\n",
      "  [Ah, the ol' Reddit Trumparoo](https://www.reddit.com/r/funny/comments/3gxjbf/surprise_her/cu2nmhz?context=3)\n",
      "  1439562257.0\n",
      "Depth 9:\n",
      "\n",
      "  funny\n",
      "  [Ah, the old Reddit kill-your-wife-aroo](https://www.reddit.com/r/pics/comments/3gwpfy/the_cashier_at_walmart_threatened_to_call_the/cu2jzkn?context=3)\n",
      "  1439551367.0\n",
      "Depth 10:\n",
      "\n",
      "  pics\n",
      "  Ah, the old Reddit [murd-eroo](https://www.reddit.com/r/pics/comments/3gws23/just_got_my_brother_into_calvin_and_hobbes_he/cu2ea9z?context=3)\n",
      "  1439536902.0\n",
      "Depth 11:\n",
      "\n",
      "  pics\n",
      "  Ah, the old reddit [domestic-abuse-a-roo...](https://www.reddit.com/r/aww/comments/3gvytp/my_first_post_on_reddit_please_be_nice_this_is/cu28j3h?context=3)\n",
      "  1439522384.0\n",
      "Depth 12:\n",
      "\n",
      "  aww\n",
      "  Ah, the old [dead-dog-aroo!](https://www.reddit.com/r/mildlyinteresting/comments/3gunx4/this_shadow_is_more_legible_than_its_source/cu27fml?context=11)\n",
      "  1439512123.0\n",
      "Depth 13:\n",
      "\n",
      "  mildlyinteresting\n",
      "  Ahh… [The old reddit translate-a-roo!](https://www.reddit.com/r/toronto/comments/3gvium/pretty_sure_this_is_a_scam_need_some_input_from/cu22w9f?context=1)\n",
      "  1439510173.0\n",
      "Depth 14:\n",
      "\n",
      "  toronto\n",
      "  [Ah, the old Reddit phone-aroo.](https://www.reddit.com/r/beards/comments/3gudm6/fresh_from_the_barber_after_about_8_months/cu1zll3?context=3)\n",
      "  1439502304.0\n",
      "Depth 15:\n",
      "\n",
      "  beards\n",
      "  Damn, you were at the barber for 8 months?\n",
      "  1439497281.0\n"
     ]
    },
    {
     "ename": "AttributeError",
     "evalue": "'NoneType' object has no attribute 'group'",
     "output_type": "error",
     "traceback": [
      "\u001b[1;31m---------------------------------------------------------------------------\u001b[0m",
      "\u001b[1;31mAttributeError\u001b[0m                            Traceback (most recent call last)",
      "\u001b[1;32m<ipython-input-93-8e595677ad26>\u001b[0m in \u001b[0;36m<module>\u001b[1;34m()\u001b[0m\n\u001b[0;32m      8\u001b[0m     \u001b[1;32mprint\u001b[0m \u001b[1;34m\"  \"\u001b[0m\u001b[1;33m+\u001b[0m \u001b[0mcurComment\u001b[0m\u001b[1;33m.\u001b[0m\u001b[0mbody\u001b[0m\u001b[1;33m\u001b[0m\u001b[0m\n\u001b[0;32m      9\u001b[0m     \u001b[1;32mprint\u001b[0m \u001b[1;34m\"  \"\u001b[0m\u001b[1;33m+\u001b[0m \u001b[0mstr\u001b[0m\u001b[1;33m(\u001b[0m\u001b[0mcurComment\u001b[0m\u001b[1;33m.\u001b[0m\u001b[0mcreated_utc\u001b[0m\u001b[1;33m)\u001b[0m\u001b[1;33m\u001b[0m\u001b[0m\n\u001b[1;32m---> 10\u001b[1;33m     \u001b[0mnextComment\u001b[0m \u001b[1;33m=\u001b[0m \u001b[0mre\u001b[0m\u001b[1;33m.\u001b[0m\u001b[0msplit\u001b[0m\u001b[1;33m(\u001b[0m\u001b[1;34m\"\\?\"\u001b[0m\u001b[1;33m,\u001b[0m \u001b[0mlink\u001b[0m\u001b[1;33m.\u001b[0m\u001b[0msearch\u001b[0m\u001b[1;33m(\u001b[0m\u001b[0mcurComment\u001b[0m\u001b[1;33m.\u001b[0m\u001b[0mbody\u001b[0m\u001b[1;33m)\u001b[0m\u001b[1;33m.\u001b[0m\u001b[0mgroup\u001b[0m\u001b[1;33m(\u001b[0m\u001b[1;36m0\u001b[0m\u001b[1;33m)\u001b[0m\u001b[1;33m)\u001b[0m\u001b[1;33m[\u001b[0m\u001b[1;36m0\u001b[0m\u001b[1;33m]\u001b[0m\u001b[1;33m\u001b[0m\u001b[0m\n\u001b[0m\u001b[0;32m     11\u001b[0m     \u001b[0mcurComment\u001b[0m \u001b[1;33m=\u001b[0m \u001b[0mr\u001b[0m\u001b[1;33m.\u001b[0m\u001b[0mget_submission\u001b[0m\u001b[1;33m(\u001b[0m\u001b[0mnextComment\u001b[0m\u001b[1;33m)\u001b[0m\u001b[1;33m.\u001b[0m\u001b[0mcomments\u001b[0m\u001b[1;33m[\u001b[0m\u001b[1;36m0\u001b[0m\u001b[1;33m]\u001b[0m\u001b[1;33m\u001b[0m\u001b[0m\n",
      "\u001b[1;31mAttributeError\u001b[0m: 'NoneType' object has no attribute 'group'"
     ]
    }
   ],
   "source": [
    "linkRE = re.compile(\"https://www.reddit.com/r/.*/comments/.*/.*/.*[^)]\")\n",
    "rooRE = re.compile(\".+roo.+\")\n",
    "seed = \"https://www.reddit.com/r/videos/comments/3gxl7o/a_canada_goose_was_following_my_dad_in_his_truck/cu30xn1\"\n",
    "seed = \"https://www.reddit.com/r/AdviceAnimals/comments/3gznb7/my_grandpa_was_hard_of_hearing_and_he_liked_to/cu38zvt\"\n",
    "curComment = r.get_submission(seed).comments[0]\n",
    "for i in range(50):\n",
    "    print \"Depth \"+str(i)+\":\\n\"\n",
    "    print \"  \"+ str(curComment.subreddit)\n",
    "    print \"  \"+ curComment.body\n",
    "    print \"  \"+ str(curComment.created_utc)\n",
    "    #Find the next step down the rabbit hole.  Hold my code, I'm going in!\n",
    "    nextComment = re.split(\"\\?\", link.search(curComment.body).group(0))[0]\n",
    "    \n",
    "    candidateComment = r.get_submission(nextComment).comments[0]\n",
    "    if (rooRE.search(candidateComment.body) is None or linkRE.search(candidateComment.body) is None):\n",
    "        for reply in candidateComment.replies:\n",
    "            if rooRe.search(reply) is not None and linkRE.search(reply) is not None:\n",
    "                curComment = reply\n",
    "                break\n",
    "    print \"End of chain!\"\n",
    "    else:\n",
    "        curCommen = candidateComment"
   ]
  },
  {
   "cell_type": "code",
   "execution_count": null,
   "metadata": {
    "collapsed": true
   },
   "outputs": [],
   "source": []
  }
 ],
 "metadata": {
  "kernelspec": {
   "display_name": "Python 2",
   "language": "python",
   "name": "python2"
  },
  "language_info": {
   "codemirror_mode": {
    "name": "ipython",
    "version": 2
   },
   "file_extension": ".py",
   "mimetype": "text/x-python",
   "name": "python",
   "nbconvert_exporter": "python",
   "pygments_lexer": "ipython2",
   "version": "2.7.6"
  }
 },
 "nbformat": 4,
 "nbformat_minor": 0
}
