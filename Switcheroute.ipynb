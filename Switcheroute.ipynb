{
 "cells": [
  {
   "cell_type": "code",
   "execution_count": 55,
   "metadata": {
    "collapsed": false
   },
   "outputs": [],
   "source": [
    "import praw\n",
    "import re"
   ]
  },
  {
   "cell_type": "code",
   "execution_count": 2,
   "metadata": {
    "collapsed": true
   },
   "outputs": [],
   "source": [
    "r = praw.Reddit(\"switcheroute\")"
   ]
  },
  {
   "cell_type": "code",
   "execution_count": 5,
   "metadata": {
    "collapsed": false
   },
   "outputs": [],
   "source": [
    "comments = r.get_comments(\"leagueoflegends\")"
   ]
  },
  {
   "cell_type": "code",
   "execution_count": 6,
   "metadata": {
    "collapsed": false
   },
   "outputs": [
    {
     "name": "stdout",
     "output_type": "stream",
     "text": [
      "Honestly I believe he'd rather be masters again or make it into challenger th...\n",
      "What are \"bitch\" supports..............................Besides nidalee? \n",
      "Well I dont know if it was random, I just summarized the drama in the CSGO su...\n",
      "Woah buddy, I looked up wiki pages on how to be a know it all on the internet...\n",
      "It's from MSI where he focused almost 100% on TSM and what they need to do to...\n",
      "TL peter has no faith,  guys give him so faith \n",
      "Europe after the second war settled quickly. The communist growth in the East...\n",
      "in low elo, most of the time your teammates will pay no attention to Ally's d...\n",
      "How do you feel about blitzrank, and do you hate laning against him?\n",
      "Psh reddit sugar coating things? LOL. More like sum1 says sumthing \"douchey\" ...\n"
     ]
    },
    {
     "name": "stderr",
     "output_type": "stream",
     "text": [
      "/usr/local/lib/python2.7/dist-packages/requests/packages/urllib3/util/ssl_.py:90: InsecurePlatformWarning: A true SSLContext object is not available. This prevents urllib3 from configuring SSL appropriately and may cause certain SSL connections to fail. For more information, see https://urllib3.readthedocs.org/en/latest/security.html#insecureplatformwarning.\n",
      "  InsecurePlatformWarning\n"
     ]
    }
   ],
   "source": [
    "for i in range(10):\n",
    "    print comments.next()"
   ]
  },
  {
   "cell_type": "code",
   "execution_count": 7,
   "metadata": {
    "collapsed": true
   },
   "outputs": [],
   "source": [
    "comment = comments.next()"
   ]
  },
  {
   "cell_type": "code",
   "execution_count": 26,
   "metadata": {
    "collapsed": false
   },
   "outputs": [
    {
     "name": "stdout",
     "output_type": "stream",
     "text": [
      "cu3colq\n",
      "danxorhs\n",
      "Opinion on blitzcrank?\n",
      "\n",
      " I am thinking of maining support I have a good blitz/thresh down but need to work on janna/morgana/soraka if i want to make the swap. Plus as an adc main I know how to play the lane as an adc!\n",
      "\n",
      "http://na.op.gg/summoner/userName=Danxor the blitz winrate \n",
      "<div class=\"md\"><p>Opinion on blitzcrank?</p>\n",
      "\n",
      "<p>I am thinking of maining support I have a good blitz/thresh down but need to work on janna/morgana/soraka if i want to make the swap. Plus as an adc main I know how to play the lane as an adc!</p>\n",
      "\n",
      "<p><a href=\"http://na.op.gg/summoner/userName=Danxor\">http://na.op.gg/summoner/userName=Danxor</a> the blitz winrate </p>\n",
      "</div>\n",
      "1439622947.0\n",
      "1439594147.0\n",
      "http://www.reddit.com/r/leagueoflegends/comments/3h14mv/recently_became_the_highest_rated_support_main_in/\n",
      "Recently became the highest rated support main in NA, PAlNLESS here for an AMA\n",
      "None\n",
      "63 :: Recently became the highest rated support main in NA, PAlNLESS here for...\n",
      "leagueoflegends\n",
      "[]\n"
     ]
    }
   ],
   "source": [
    "comment = comments.next()\n",
    "print comment.id\n",
    "print comment.author\n",
    "print comment.body\n",
    "print comment.body_html\n",
    "print comment.created\n",
    "print comment.created_utc\n",
    "print comment.link_url\n",
    "print comment.link_title\n",
    "print comment.json_dict\n",
    "print comment.submission\n",
    "print comment.subreddit\n",
    "print comment.replies\n"
   ]
  },
  {
   "cell_type": "code",
   "execution_count": 51,
   "metadata": {
    "collapsed": false,
    "scrolled": true
   },
   "outputs": [],
   "source": [
    "single_submission = r.get_submission(\"https://www.reddit.com/r/videos/comments/3gxl7o/a_canada_goose_was_following_my_dad_in_his_truck/cu30xn1\")\n",
    "single_comment = single_submission.comments[0]\n"
   ]
  },
  {
   "cell_type": "code",
   "execution_count": 70,
   "metadata": {
    "collapsed": false
   },
   "outputs": [
    {
     "name": "stdout",
     "output_type": "stream",
     "text": [
      "Ah, the old [Reddit honk-a-roo](https://www.reddit.com/r/RoastMe/comments/3gxny6/roast_me_you_fucks/cu2xdb3?context=2)\n",
      "https://www.reddit.com/r/RoastMe/comments/3gxny6/roast_me_you_fucks/cu2xdb3?context=2\n",
      "https://www.reddit.com/r/RoastMe/comments/3gxny6/roast_me_you_fucks/cu2xdb3\n"
     ]
    }
   ],
   "source": [
    "theBody = single_comment.body\n",
    "print theBody\n",
    "link = re.compile(\"https://www.reddit.com/r/.*/comments/.*/.*/.*[^)]\")\n",
    "rooRE = re.compile(\".+-.+-roo\")\n",
    "print link.search(theBody).group(0)\n",
    "print re.split(\"\\?\", link.search(theBody).group(0))[0]"
   ]
  },
  {
   "cell_type": "code",
   "execution_count": null,
   "metadata": {
    "collapsed": true
   },
   "outputs": [],
   "source": [
    "linkRE = re.compile(\"https://www.reddit.com/r/.*/comments/.*/.*/.*[^)]\")\n",
    "seed = \"https://www.reddit.com/r/RoastMe/comments/3gxny6/roast_me_you_fucks/cu2xdb3?context=2\"\n",
    "curComment = r.get_submission(seed).comments[0]\n",
    "for i in range(50):\n",
    "    print \"Depth \"+str(i)\":\\n\"\n",
    "    print \"  \"+ curComment.subreddit\n",
    "    print \"  \"+ curComment.body\n",
    "    print \"  \"+ curComment.created_utc\n",
    "    nextComment = re.split(\"\\?\", link.search(curComment.body).group(0))[0]\n",
    "    curComment = r.get_submission(nextComment).comments[0]"
   ]
  }
 ],
 "metadata": {
  "kernelspec": {
   "display_name": "Python 2",
   "language": "python",
   "name": "python2"
  },
  "language_info": {
   "codemirror_mode": {
    "name": "ipython",
    "version": 2
   },
   "file_extension": ".py",
   "mimetype": "text/x-python",
   "name": "python",
   "nbconvert_exporter": "python",
   "pygments_lexer": "ipython2",
   "version": "2.7.6"
  }
 },
 "nbformat": 4,
 "nbformat_minor": 0
}
