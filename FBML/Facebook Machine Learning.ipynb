{
 "cells": [
  {
   "cell_type": "markdown",
   "metadata": {},
   "source": [
    "# Model Building\n",
    "\n",
    "The goal of this notebook is to clean the data from the raw Facebook chat dump and build a model to predict which of my friends is most likely to have made a given statement."
   ]
  },
  {
   "cell_type": "code",
   "execution_count": 1,
   "metadata": {
    "collapsed": false
   },
   "outputs": [],
   "source": [
    "%matplotlib inline\n",
    "import re\n",
    "from sklearn.feature_extraction.text import CountVectorizer\n",
    "from sklearn.naive_bayes import GaussianNB\n",
    "import matplotlib.pyplot as plt"
   ]
  },
  {
   "cell_type": "code",
   "execution_count": 2,
   "metadata": {
    "collapsed": false
   },
   "outputs": [
    {
     "name": "stdout",
     "output_type": "stream",
     "text": [
      "total 2192\r\n",
      "-rw-rw-r-- 1 ubuntu ubuntu 2206374 Aug  7 20:35 cleaned1.txt\r\n",
      "-rw-rw-r-- 1 ubuntu ubuntu      66 Aug  7 21:04 environment.yml\r\n",
      "-rw-rw-r-- 1 ubuntu ubuntu   30305 Aug  7 22:25 Facebook Machine Learning.ipynb\r\n"
     ]
    }
   ],
   "source": [
    "!ls -l"
   ]
  },
  {
   "cell_type": "code",
   "execution_count": 3,
   "metadata": {
    "collapsed": false
   },
   "outputs": [],
   "source": [
    "raw_data = open(\"cleaned1.txt\").read()"
   ]
  },
  {
   "cell_type": "code",
   "execution_count": 4,
   "metadata": {
    "collapsed": false
   },
   "outputs": [
    {
     "name": "stdout",
     "output_type": "stream",
     "text": [
      "<div class=\"message\"><div class=\"message_header\"><span class=\"user\">Chris Dailey</span><span class=\"meta\">Thursday, April 2, 2015 at 7:03pm EDT</span></div></div><p>a) training can make you resistant to torture, but everyone breaks except for the .01% who can beat it</p><div class=\"message\"><div class=\"message_header\"><span class=\"user\">Chris Dailey</span><span class=\"meta\">Thursday, April 2, 2015 at 7:02pm EDT</span></div></div><p>well</p><div class=\"message\"><div class=\"message_header\"><span c\n"
     ]
    }
   ],
   "source": [
    "print(raw_data[:500])"
   ]
  },
  {
   "cell_type": "code",
   "execution_count": 5,
   "metadata": {
    "collapsed": true
   },
   "outputs": [],
   "source": [
    "cleaned_data = re.sub(\"<div class=\\\"message\\\">\", \"\", raw_data)"
   ]
  },
  {
   "cell_type": "code",
   "execution_count": 6,
   "metadata": {
    "collapsed": false
   },
   "outputs": [
    {
     "name": "stdout",
     "output_type": "stream",
     "text": [
      "<div class=\"message_header\"><span class=\"user\">Chris Dailey</span><span class=\"meta\">Thursday, April 2, 2015 at 7:03pm EDT</span></div></div><p>a) training can make you resistant to torture, but everyone breaks except for the .01% who can beat it</p><div class=\"message_header\"><span class=\"user\">Chris Dailey</span><span class=\"meta\">Thursday, April 2, 2015 at 7:02pm EDT</span></div></div><p>well</p><div class=\"message_header\"><span class=\"user\">Matthew Lotz</span><span class=\"meta\">Thursday, Apr\n"
     ]
    }
   ],
   "source": [
    "print(cleaned_data[:500])"
   ]
  },
  {
   "cell_type": "code",
   "execution_count": 7,
   "metadata": {
    "collapsed": false
   },
   "outputs": [],
   "source": [
    "messages = re.split(\"<div class=\\\"message_header\\\">\", cleaned_data)"
   ]
  },
  {
   "cell_type": "code",
   "execution_count": 8,
   "metadata": {
    "collapsed": false
   },
   "outputs": [
    {
     "data": {
      "text/plain": [
       "10000"
      ]
     },
     "execution_count": 8,
     "metadata": {},
     "output_type": "execute_result"
    }
   ],
   "source": [
    "messages = messages[1:]\n",
    "#I guess Facebook only stores the last 10k messages in a group chat.\n",
    "len(messages)"
   ]
  },
  {
   "cell_type": "code",
   "execution_count": 9,
   "metadata": {
    "collapsed": false
   },
   "outputs": [],
   "source": [
    "messages_sample = messages[:10]"
   ]
  },
  {
   "cell_type": "code",
   "execution_count": 10,
   "metadata": {
    "collapsed": false
   },
   "outputs": [
    {
     "data": {
      "text/plain": [
       "['<span class=\"user\">Chris Dailey</span><span class=\"meta\">Thursday, April 2, 2015 at 7:03pm EDT</span></div></div><p>a) training can make you resistant to torture, but everyone breaks except for the .01% who can beat it</p>',\n",
       " '<span class=\"user\">Chris Dailey</span><span class=\"meta\">Thursday, April 2, 2015 at 7:02pm EDT</span></div></div><p>well</p>',\n",
       " '<span class=\"user\">Matthew Lotz</span><span class=\"meta\">Thursday, April 2, 2015 at 7:02pm EDT</span></div></div><p>not much of an officer, than</p>',\n",
       " '<span class=\"user\">Chris Dailey</span><span class=\"meta\">Thursday, April 2, 2015 at 7:02pm EDT</span></div></div><p>I would have immediately agreed that there are five lights</p>',\n",
       " '<span class=\"user\">Matthew Lotz</span><span class=\"meta\">Thursday, April 2, 2015 at 6:59pm EDT</span></div></div><p>At the end, when Picard is being released, he screams it at the guy before hobbling away</p>',\n",
       " '<span class=\"user\">Matthew Lotz</span><span class=\"meta\">Thursday, April 2, 2015 at 6:58pm EDT</span></div></div><p>He keeps offering nicer and nicer things if only Picard will agree that there are 5 lights</p>',\n",
       " '<span class=\"user\">Matthew Lotz</span><span class=\"meta\">Thursday, April 2, 2015 at 6:57pm EDT</span></div></div><p>by torturing him everytime he says that there are four lights (which there are)</p>',\n",
       " '<span class=\"user\">Matthew Lotz</span><span class=\"meta\">Thursday, April 2, 2015 at 6:57pm EDT</span></div></div><p>the scary dude is trying to break Picard</p>',\n",
       " '<span class=\"user\">Matthew Lotz</span><span class=\"meta\">Thursday, April 2, 2015 at 6:57pm EDT</span></div></div><p>maybe even a two-parter</p>',\n",
       " '<span class=\"user\">Matthew Lotz</span><span class=\"meta\">Thursday, April 2, 2015 at 6:57pm EDT</span></div></div><p>It\\'s a whole episode</p>']"
      ]
     },
     "execution_count": 10,
     "metadata": {},
     "output_type": "execute_result"
    }
   ],
   "source": [
    "messages_sample"
   ]
  },
  {
   "cell_type": "code",
   "execution_count": 11,
   "metadata": {
    "collapsed": false
   },
   "outputs": [
    {
     "name": "stdout",
     "output_type": "stream",
     "text": [
      "('Chris Dailey', 'a) training can make you resistant to torture, but everyone breaks except for the .01% who can beat it')\n",
      "('Chris Dailey', 'well')\n",
      "('Matthew Lotz', 'not much of an officer, than')\n",
      "('Chris Dailey', 'I would have immediately agreed that there are five lights')\n",
      "('Matthew Lotz', 'At the end, when Picard is being released, he screams it at the guy before hobbling away')\n",
      "('Matthew Lotz', 'He keeps offering nicer and nicer things if only Picard will agree that there are 5 lights')\n",
      "('Matthew Lotz', 'by torturing him everytime he says that there are four lights (which there are)')\n",
      "('Matthew Lotz', 'the scary dude is trying to break Picard')\n",
      "('Matthew Lotz', 'maybe even a two-parter')\n",
      "('Matthew Lotz', \"It's a whole episode\")\n"
     ]
    }
   ],
   "source": [
    "for message in messages_sample:\n",
    "    parts = re.search(\"<span class=\\\"user\\\">(.*)</span><span class=\\\"meta\\\">.*</span></div></div><p>(.*)</p>\", message)\n",
    "    if parts:\n",
    "        print(parts.groups())"
   ]
  },
  {
   "cell_type": "code",
   "execution_count": 12,
   "metadata": {
    "collapsed": false
   },
   "outputs": [],
   "source": [
    "labels = []\n",
    "docs = []\n",
    "\n",
    "for message in messages:\n",
    "    tuples = re.search(\"<span class=\\\"user\\\">(.*)</span><span class=\\\"meta\\\">.*</span></div></div><p>(.*)</p>\", message)\n",
    "    if tuples:\n",
    "        labels.append(tuples.group(1))\n",
    "        docs.append(tuples.group(2))\n"
   ]
  },
  {
   "cell_type": "code",
   "execution_count": 13,
   "metadata": {
    "collapsed": false
   },
   "outputs": [
    {
     "data": {
      "text/plain": [
       "['Chris Dailey',\n",
       " 'Chris Dailey',\n",
       " 'Matthew Lotz',\n",
       " 'Chris Dailey',\n",
       " 'Matthew Lotz',\n",
       " 'Matthew Lotz',\n",
       " 'Matthew Lotz',\n",
       " 'Matthew Lotz',\n",
       " 'Matthew Lotz',\n",
       " 'Matthew Lotz',\n",
       " 'Benjamin McCall',\n",
       " 'Benjamin McCall',\n",
       " 'Chris Dailey',\n",
       " 'Chris Dailey',\n",
       " 'Benjamin McCall',\n",
       " 'Matthew Lotz',\n",
       " 'Matthew Lotz',\n",
       " 'Matthew Lotz',\n",
       " 'Matthew Lotz',\n",
       " 'Benjamin McCall']"
      ]
     },
     "execution_count": 13,
     "metadata": {},
     "output_type": "execute_result"
    }
   ],
   "source": [
    "labels[:20]"
   ]
  },
  {
   "cell_type": "code",
   "execution_count": 14,
   "metadata": {
    "collapsed": false
   },
   "outputs": [
    {
     "data": {
      "text/plain": [
       "['a) training can make you resistant to torture, but everyone breaks except for the .01% who can beat it',\n",
       " 'well',\n",
       " 'not much of an officer, than',\n",
       " 'I would have immediately agreed that there are five lights',\n",
       " 'At the end, when Picard is being released, he screams it at the guy before hobbling away',\n",
       " 'He keeps offering nicer and nicer things if only Picard will agree that there are 5 lights',\n",
       " 'by torturing him everytime he says that there are four lights (which there are)',\n",
       " 'the scary dude is trying to break Picard',\n",
       " 'maybe even a two-parter',\n",
       " \"It's a whole episode\",\n",
       " '',\n",
       " 'Matt. We need to make Chris watch TNG',\n",
       " \"less dramatically, presumably because I haven't seen this scene\",\n",
       " \"I would've also said four\",\n",
       " 'no, there are five',\n",
       " 'LIGHTS!',\n",
       " 'FOUR',\n",
       " 'ARE',\n",
       " 'THERE',\n",
       " 'Matt....... how many lights do you see']"
      ]
     },
     "execution_count": 14,
     "metadata": {},
     "output_type": "execute_result"
    }
   ],
   "source": [
    "docs[:20]"
   ]
  },
  {
   "cell_type": "code",
   "execution_count": 15,
   "metadata": {
    "collapsed": false
   },
   "outputs": [
    {
     "name": "stdout",
     "output_type": "stream",
     "text": [
      "('Chris Dailey', 'a) training can make you resistant to torture, but everyone breaks except for the .01% who can beat it')\n",
      "('Chris Dailey', 'well')\n",
      "('Matthew Lotz', 'not much of an officer, than')\n",
      "('Chris Dailey', 'I would have immediately agreed that there are five lights')\n",
      "('Matthew Lotz', 'At the end, when Picard is being released, he screams it at the guy before hobbling away')\n",
      "('Matthew Lotz', 'He keeps offering nicer and nicer things if only Picard will agree that there are 5 lights')\n",
      "('Matthew Lotz', 'by torturing him everytime he says that there are four lights (which there are)')\n",
      "('Matthew Lotz', 'the scary dude is trying to break Picard')\n",
      "('Matthew Lotz', 'maybe even a two-parter')\n",
      "('Matthew Lotz', \"It's a whole episode\")\n",
      "('Benjamin McCall', '')\n",
      "('Benjamin McCall', 'Matt. We need to make Chris watch TNG')\n",
      "('Chris Dailey', \"less dramatically, presumably because I haven't seen this scene\")\n",
      "('Chris Dailey', \"I would've also said four\")\n",
      "('Benjamin McCall', 'no, there are five')\n",
      "('Matthew Lotz', 'LIGHTS!')\n",
      "('Matthew Lotz', 'FOUR')\n",
      "('Matthew Lotz', 'ARE')\n",
      "('Matthew Lotz', 'THERE')\n",
      "('Benjamin McCall', 'Matt....... how many lights do you see')\n"
     ]
    }
   ],
   "source": [
    "for pair in zip(labels[:20], docs[:20]):\n",
    "    print(pair)"
   ]
  },
  {
   "cell_type": "code",
   "execution_count": 16,
   "metadata": {
    "collapsed": false
   },
   "outputs": [],
   "source": [
    "vectorizer = CountVectorizer()\n",
    "DTM = vectorizer.fit_transform(raw_documents=docs)"
   ]
  },
  {
   "cell_type": "code",
   "execution_count": 17,
   "metadata": {
    "collapsed": false
   },
   "outputs": [
    {
     "data": {
      "text/plain": [
       "GaussianNB()"
      ]
     },
     "execution_count": 17,
     "metadata": {},
     "output_type": "execute_result"
    }
   ],
   "source": [
    "clf = GaussianNB()\n",
    "clf.fit(DTM.toarray(), labels)"
   ]
  },
  {
   "cell_type": "code",
   "execution_count": 18,
   "metadata": {
    "collapsed": false,
    "scrolled": false
   },
   "outputs": [
    {
     "data": {
      "text/plain": [
       "(9948, 8749)"
      ]
     },
     "execution_count": 18,
     "metadata": {},
     "output_type": "execute_result"
    }
   ],
   "source": [
    "DTM.toarray().shape"
   ]
  },
  {
   "cell_type": "code",
   "execution_count": 19,
   "metadata": {
    "collapsed": false
   },
   "outputs": [
    {
     "data": {
      "text/plain": [
       "array(['Matthew Lotz'], \n",
       "      dtype='<U28')"
      ]
     },
     "execution_count": 19,
     "metadata": {},
     "output_type": "execute_result"
    }
   ],
   "source": [
    "clf.predict(vectorizer.transform([\"This perilous sentence has unusual words like trounce, stipend, and prestidigitation.\"]).toarray())"
   ]
  },
  {
   "cell_type": "code",
   "execution_count": 21,
   "metadata": {
    "collapsed": false
   },
   "outputs": [],
   "source": [
    "preds = clf.predict_log_proba(vectorizer.transform([\"This perilous sentence has unusual words like trounce, stipend, and prestidigitation.\"]).toarray())"
   ]
  },
  {
   "cell_type": "code",
   "execution_count": 31,
   "metadata": {
    "collapsed": false
   },
   "outputs": [
    {
     "ename": "MemoryError",
     "evalue": "",
     "output_type": "error",
     "traceback": [
      "\u001b[1;31m---------------------------------------------------------------------------\u001b[0m",
      "\u001b[1;31mMemoryError\u001b[0m                               Traceback (most recent call last)",
      "\u001b[1;32m<ipython-input-31-248797f3a540>\u001b[0m in \u001b[0;36m<module>\u001b[1;34m()\u001b[0m\n\u001b[1;32m----> 1\u001b[1;33m \u001b[0mclf\u001b[0m\u001b[1;33m.\u001b[0m\u001b[0mscore\u001b[0m\u001b[1;33m(\u001b[0m\u001b[0mDTM\u001b[0m\u001b[1;33m.\u001b[0m\u001b[0mtoarray\u001b[0m\u001b[1;33m(\u001b[0m\u001b[1;33m)\u001b[0m\u001b[1;33m,\u001b[0m \u001b[0mlabels\u001b[0m\u001b[1;33m)\u001b[0m\u001b[1;33m\u001b[0m\u001b[0m\n\u001b[0m",
      "\u001b[1;32m/home/ubuntu/anaconda3/envs/fbml-env/lib/python3.5/site-packages/sklearn/base.py\u001b[0m in \u001b[0;36mscore\u001b[1;34m(self, X, y, sample_weight)\u001b[0m\n\u001b[0;32m    308\u001b[0m         \"\"\"\n\u001b[0;32m    309\u001b[0m         \u001b[1;32mfrom\u001b[0m \u001b[1;33m.\u001b[0m\u001b[0mmetrics\u001b[0m \u001b[1;32mimport\u001b[0m \u001b[0maccuracy_score\u001b[0m\u001b[1;33m\u001b[0m\u001b[0m\n\u001b[1;32m--> 310\u001b[1;33m         \u001b[1;32mreturn\u001b[0m \u001b[0maccuracy_score\u001b[0m\u001b[1;33m(\u001b[0m\u001b[0my\u001b[0m\u001b[1;33m,\u001b[0m \u001b[0mself\u001b[0m\u001b[1;33m.\u001b[0m\u001b[0mpredict\u001b[0m\u001b[1;33m(\u001b[0m\u001b[0mX\u001b[0m\u001b[1;33m)\u001b[0m\u001b[1;33m,\u001b[0m \u001b[0msample_weight\u001b[0m\u001b[1;33m=\u001b[0m\u001b[0msample_weight\u001b[0m\u001b[1;33m)\u001b[0m\u001b[1;33m\u001b[0m\u001b[0m\n\u001b[0m\u001b[0;32m    311\u001b[0m \u001b[1;33m\u001b[0m\u001b[0m\n\u001b[0;32m    312\u001b[0m \u001b[1;33m\u001b[0m\u001b[0m\n",
      "\u001b[1;32m/home/ubuntu/anaconda3/envs/fbml-env/lib/python3.5/site-packages/sklearn/naive_bayes.py\u001b[0m in \u001b[0;36mpredict\u001b[1;34m(self, X)\u001b[0m\n\u001b[0;32m     63\u001b[0m             \u001b[0mPredicted\u001b[0m \u001b[0mtarget\u001b[0m \u001b[0mvalues\u001b[0m \u001b[1;32mfor\u001b[0m \u001b[0mX\u001b[0m\u001b[1;33m\u001b[0m\u001b[0m\n\u001b[0;32m     64\u001b[0m         \"\"\"\n\u001b[1;32m---> 65\u001b[1;33m         \u001b[0mjll\u001b[0m \u001b[1;33m=\u001b[0m \u001b[0mself\u001b[0m\u001b[1;33m.\u001b[0m\u001b[0m_joint_log_likelihood\u001b[0m\u001b[1;33m(\u001b[0m\u001b[0mX\u001b[0m\u001b[1;33m)\u001b[0m\u001b[1;33m\u001b[0m\u001b[0m\n\u001b[0m\u001b[0;32m     66\u001b[0m         \u001b[1;32mreturn\u001b[0m \u001b[0mself\u001b[0m\u001b[1;33m.\u001b[0m\u001b[0mclasses_\u001b[0m\u001b[1;33m[\u001b[0m\u001b[0mnp\u001b[0m\u001b[1;33m.\u001b[0m\u001b[0margmax\u001b[0m\u001b[1;33m(\u001b[0m\u001b[0mjll\u001b[0m\u001b[1;33m,\u001b[0m \u001b[0maxis\u001b[0m\u001b[1;33m=\u001b[0m\u001b[1;36m1\u001b[0m\u001b[1;33m)\u001b[0m\u001b[1;33m]\u001b[0m\u001b[1;33m\u001b[0m\u001b[0m\n\u001b[0;32m     67\u001b[0m \u001b[1;33m\u001b[0m\u001b[0m\n",
      "\u001b[1;32m/home/ubuntu/anaconda3/envs/fbml-env/lib/python3.5/site-packages/sklearn/naive_bayes.py\u001b[0m in \u001b[0;36m_joint_log_likelihood\u001b[1;34m(self, X)\u001b[0m\n\u001b[0;32m    392\u001b[0m             \u001b[0mjointi\u001b[0m \u001b[1;33m=\u001b[0m \u001b[0mnp\u001b[0m\u001b[1;33m.\u001b[0m\u001b[0mlog\u001b[0m\u001b[1;33m(\u001b[0m\u001b[0mself\u001b[0m\u001b[1;33m.\u001b[0m\u001b[0mclass_prior_\u001b[0m\u001b[1;33m[\u001b[0m\u001b[0mi\u001b[0m\u001b[1;33m]\u001b[0m\u001b[1;33m)\u001b[0m\u001b[1;33m\u001b[0m\u001b[0m\n\u001b[0;32m    393\u001b[0m             \u001b[0mn_ij\u001b[0m \u001b[1;33m=\u001b[0m \u001b[1;33m-\u001b[0m \u001b[1;36m0.5\u001b[0m \u001b[1;33m*\u001b[0m \u001b[0mnp\u001b[0m\u001b[1;33m.\u001b[0m\u001b[0msum\u001b[0m\u001b[1;33m(\u001b[0m\u001b[0mnp\u001b[0m\u001b[1;33m.\u001b[0m\u001b[0mlog\u001b[0m\u001b[1;33m(\u001b[0m\u001b[1;36m2.\u001b[0m \u001b[1;33m*\u001b[0m \u001b[0mnp\u001b[0m\u001b[1;33m.\u001b[0m\u001b[0mpi\u001b[0m \u001b[1;33m*\u001b[0m \u001b[0mself\u001b[0m\u001b[1;33m.\u001b[0m\u001b[0msigma_\u001b[0m\u001b[1;33m[\u001b[0m\u001b[0mi\u001b[0m\u001b[1;33m,\u001b[0m \u001b[1;33m:\u001b[0m\u001b[1;33m]\u001b[0m\u001b[1;33m)\u001b[0m\u001b[1;33m)\u001b[0m\u001b[1;33m\u001b[0m\u001b[0m\n\u001b[1;32m--> 394\u001b[1;33m             n_ij -= 0.5 * np.sum(((X - self.theta_[i, :]) ** 2) /\n\u001b[0m\u001b[0;32m    395\u001b[0m                                  (self.sigma_[i, :]), 1)\n\u001b[0;32m    396\u001b[0m             \u001b[0mjoint_log_likelihood\u001b[0m\u001b[1;33m.\u001b[0m\u001b[0mappend\u001b[0m\u001b[1;33m(\u001b[0m\u001b[0mjointi\u001b[0m \u001b[1;33m+\u001b[0m \u001b[0mn_ij\u001b[0m\u001b[1;33m)\u001b[0m\u001b[1;33m\u001b[0m\u001b[0m\n",
      "\u001b[1;31mMemoryError\u001b[0m: "
     ]
    }
   ],
   "source": [
    "clf.score(DTM.toarray(), labels)"
   ]
  },
  {
   "cell_type": "code",
   "execution_count": null,
   "metadata": {
    "collapsed": true
   },
   "outputs": [],
   "source": []
  }
 ],
 "metadata": {
  "anaconda-cloud": {},
  "kernelspec": {
   "display_name": "Python [fbml-env]",
   "language": "python",
   "name": "Python [fbml-env]"
  },
  "language_info": {
   "codemirror_mode": {
    "name": "ipython",
    "version": 3
   },
   "file_extension": ".py",
   "mimetype": "text/x-python",
   "name": "python",
   "nbconvert_exporter": "python",
   "pygments_lexer": "ipython3",
   "version": "3.5.2"
  }
 },
 "nbformat": 4,
 "nbformat_minor": 0
}
